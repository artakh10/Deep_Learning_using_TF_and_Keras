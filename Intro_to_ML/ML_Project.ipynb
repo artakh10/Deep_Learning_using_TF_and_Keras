{
 "cells": [
  {
   "cell_type": "markdown",
   "id": "a8f20cfe-82d8-4fb1-b35c-62548f490ef6",
   "metadata": {},
   "source": [
    "## For the \"Deep Learning using TensorFlow & Keras\" course:\n",
    "\n",
    "##### Author: Arta Khosravi\n"
   ]
  },
  {
   "cell_type": "markdown",
   "id": "d5088b12-29e6-420d-9c70-b701df134a78",
   "metadata": {},
   "source": [
    "<br>\n",
    "<div dir=\"auto\" >\n",
    "<p style='text-align: right;'>\n",
    "فرض کنید دیتاستی به صورت زیر برای یک مساله رگرسیون دارید. برای این دیتاست مدل خطی بسازید و ستون y را بر اساس ورودی‌های X پیش‌بینی کنید. محاسبات را برای سه iteration بصورت دستی تکرار کنید و در نهایت معادله خط را بدست آورید. برای مقداردهی اولیه وزن‌ها می‌توانید از امکانات numpy.random استفاده کنید. برای محاسبه‌ی خطای پیش‌بینی از مقادیر واقعی یک بار از quadratic error و سپس از absolute error استفاده کنید و هر دو خط بدست آمده را روی داده رسم کنید.\n",
    "</p>\n",
    "</div>\n",
    "<!-- <p>&nbsp;</p> -->\n",
    "<p dir=\"ltr\">(quadratic error : (prediction-target)^2)</p>\n",
    "<p dir=\"ltr\"><img src=\"https://maktabkhooneh.org/media/uploads/Screenshot_2022-03-08_160808.jpg\" alt=\"\" width=\"195\" height=\"112\" /><br />(absolute error : |prediction-target|)</p>"
   ]
  },
  {
   "cell_type": "code",
   "execution_count": 803,
   "id": "c20c898c-b3bc-47ba-ba87-bb78f9d607c2",
   "metadata": {},
   "outputs": [],
   "source": [
    "import matplotlib.pyplot as plt\n",
    "import pandas as pd\n",
    "import numpy as np\n",
    "from scipy.optimize import curve_fit\n",
    "from sklearn.metrics import r2_score\n",
    "%matplotlib inline"
   ]
  },
  {
   "cell_type": "code",
   "execution_count": 805,
   "id": "92123336-4313-48ca-bad9-f7bf71266d3f",
   "metadata": {},
   "outputs": [
    {
     "data": {
      "text/html": [
       "<div>\n",
       "<style scoped>\n",
       "    .dataframe tbody tr th:only-of-type {\n",
       "        vertical-align: middle;\n",
       "    }\n",
       "\n",
       "    .dataframe tbody tr th {\n",
       "        vertical-align: top;\n",
       "    }\n",
       "\n",
       "    .dataframe thead th {\n",
       "        text-align: right;\n",
       "    }\n",
       "</style>\n",
       "<table border=\"1\" class=\"dataframe\">\n",
       "  <thead>\n",
       "    <tr style=\"text-align: right;\">\n",
       "      <th></th>\n",
       "      <th>X</th>\n",
       "      <th>Y</th>\n",
       "    </tr>\n",
       "  </thead>\n",
       "  <tbody>\n",
       "    <tr>\n",
       "      <th>0</th>\n",
       "      <td>1.2</td>\n",
       "      <td>8.5</td>\n",
       "    </tr>\n",
       "    <tr>\n",
       "      <th>1</th>\n",
       "      <td>2.5</td>\n",
       "      <td>9.2</td>\n",
       "    </tr>\n",
       "    <tr>\n",
       "      <th>2</th>\n",
       "      <td>3.5</td>\n",
       "      <td>10.1</td>\n",
       "    </tr>\n",
       "  </tbody>\n",
       "</table>\n",
       "</div>"
      ],
      "text/plain": [
       "     X     Y\n",
       "0  1.2   8.5\n",
       "1  2.5   9.2\n",
       "2  3.5  10.1"
      ]
     },
     "execution_count": 805,
     "metadata": {},
     "output_type": "execute_result"
    }
   ],
   "source": [
    "df = pd.DataFrame({'X':[1.2,2.5,3.5],'Y':[8.5,9.2,10.1]})\n",
    "df"
   ]
  },
  {
   "cell_type": "markdown",
   "id": "628b6c0c-e255-49cf-af90-e9c854c492ab",
   "metadata": {},
   "source": [
    "- $Error$, $Loss$ or $Cost$ $Function$: $E(\\theta)$ = $\\frac{1}{2}$ $\\sum\\limits_{k=1}^M[t^k - \\hat{y}^k]^2$\n",
    "  <br>Note: $t$ is the true value/features, and $\\hat{y}$ are the predicted values/features.\n",
    "<!-- <br> -->\n",
    "<!-- <br> -->\n",
    "- $Quadratic$ $Error$ or $MSE$ = $\\frac{1}{M}$ $\\sum\\limits_{k=1}^M[y_{true}^k - \\hat{y}_{pred}^k]^2$\n",
    "\n",
    "- $Absolute$ $Error$ or $MAE$ = $\\frac{1}{M}$ $\\sum\\limits_{k=1}^M|y_{true}^k  - \\hat{y}_{pred}^k|$\n",
    "\n",
    "#### Finding Parameters that Minimize Errors:\n",
    "- $The$ $gradiant$ $descent$ $method$: $\\theta_j^{s+1}$ = $\\theta_j^s - \\gamma \\frac{dE}{d\\theta_j}$\n",
    "  <br>Note: $s$ is step, $\\gamma$ is learning rate, $E$ is the error, and $\\theta$ is our value.\n",
    "\n",
    "- $Weight$: $m_{s + 1}$ = $m_s -\\gamma\\dfrac{\\partial E}{\\partial m}$\n",
    "\n",
    "  - for MSE: $\\dfrac{\\partial E}{\\partial m}$ = $\\frac{-2}{M}$ $X_i \\sum[y_{i}-\\hat{y}_i]$\n",
    "\n",
    "  - for MAE: $\\dfrac{\\partial E}{\\partial m}$ = $\\frac{-1}{M}$ $\\sum X_i sign(e_i)$\n",
    "- $Bias$: $b_{s + 1}$ = $b_s - \\gamma\\dfrac{\\partial E}{\\partial b}$\n",
    "\n",
    "  - for MSE: $\\dfrac{\\partial E}{\\partial b}$ = $\\frac{-2}{M}$ $\\sum[y_{i}-\\hat{y}_i]$\n",
    "\n",
    "  - for MAE: $\\dfrac{\\partial E}{\\partial m}$ = $\\frac{-1}{M}$ $\\sum sign(e_i)$\n",
    "<!-- <br> -->\n"
   ]
  },
  {
   "cell_type": "code",
   "execution_count": 807,
   "id": "a1611cde-7143-438d-83cf-569bb585faf5",
   "metadata": {},
   "outputs": [],
   "source": [
    "np.random.seed(42)\n",
    "m_init = np.random.randn() #weight\n",
    "b_init = np.random.randn() #bias\n",
    "x = df['X'].to_numpy() #Features\n",
    "t = df['Y'].to_numpy() #True values\n",
    "learning_rate = 0.07 #Speculation\n",
    "iteration = 3 #iterations\n",
    "N = len(X)"
   ]
  },
  {
   "cell_type": "code",
   "execution_count": 809,
   "id": "689d913d-a421-4623-9c88-c8c916329fec",
   "metadata": {},
   "outputs": [
    {
     "data": {
      "text/plain": [
       "(3.279961881689365, 1.0115300789143404)"
      ]
     },
     "execution_count": 809,
     "metadata": {},
     "output_type": "execute_result"
    }
   ],
   "source": [
    "def update_weights_MSE(m, b, X, Y, LR):\n",
    "    dm = 0\n",
    "    db = 0\n",
    "    N = len(X)\n",
    "    for i in range(N):\n",
    "        dm += -2*X[i] * (Y[i] - (m*X[i] + b))\n",
    "        db += -2*(Y[i] - (m*X[i] + b))\n",
    "    m -= (dm / float(N)) * LR\n",
    "    b -= (db / float(N)) * LR\n",
    "    return m, b\n",
    "\n",
    "new_m_MSE , new_b_MSE = update_weights_MSE(m_init, b_init, x, t, learning_rate)\n",
    "new_m_MSE , new_b_MSE"
   ]
  },
  {
   "cell_type": "code",
   "execution_count": 811,
   "id": "2dcd83aa-f699-454d-940c-b96b5a18439a",
   "metadata": {},
   "outputs": [
    {
     "data": {
      "text/plain": [
       "(0.6647141530112327, -0.06826430117118465)"
      ]
     },
     "execution_count": 811,
     "metadata": {},
     "output_type": "execute_result"
    }
   ],
   "source": [
    "def update_weights_MAE(m, b, X, Y, LR):\n",
    "    dm = 0\n",
    "    db = 0\n",
    "    N = len(X)\n",
    "    for i in range(N):\n",
    "        dm += - X[i] * (Y[i] - (m*X[i] + b)) / abs(Y[i] - (m*X[i] + b))\n",
    "        db += -(Y[i] - (m*X[i] + b)) / abs(Y[i] - (m*X[i] + b))\n",
    "    m -= (dm / float(N)) * LR\n",
    "    b -= (db / float(N)) * LR\n",
    "    return m, b\n",
    "\n",
    "new_m_MAE , new_b_MAE = update_weights_MAE(m, b, x, t, learning_rate)\n",
    "new_m_MAE , new_b_MAE"
   ]
  },
  {
   "cell_type": "code",
   "execution_count": 813,
   "id": "66c7b461-3d00-4e26-9541-16610cdbee32",
   "metadata": {},
   "outputs": [
    {
     "data": {
      "image/png": "[encoded data removed]",
      "text/plain": [
       "<Figure size 640x480 with 1 Axes>"
      ]
     },
     "metadata": {},
     "output_type": "display_data"
    }
   ],
   "source": [
    "def pred(m , b , x):\n",
    "    y = m * x + b\n",
    "    return y\n",
    "\n",
    "plt.scatter(x, t, color='blue', marker='x', label='Data Points')\n",
    "plt.plot(x, pred(new_m_MSE,new_b_MSE,x), color='red', label='MSE Line: {}x + {}'.format(round(new_m_MSE,2),round(new_b_MSE,2)))\n",
    "plt.plot(x, pred(new_m_MAE,new_b_MAE,x), color='green', label='MAE Line: {}x + {}'.format(round(new_m_MAE,2),round(new_b_MAE,2)))\n",
    "plt.xlabel('x')\n",
    "plt.ylabel('y')\n",
    "plt.title('Linear Regression, LR = 0.07')\n",
    "plt.tight_layout()\n",
    "plt.legend()\n",
    "plt.show()"
   ]
  },
  {
   "cell_type": "markdown",
   "id": "247181c1-842e-4311-9b83-902e0315852c",
   "metadata": {},
   "source": [
    "## General Linear Regression Method"
   ]
  },
  {
   "cell_type": "code",
   "execution_count": 815,
   "id": "b945e3c4-c2dd-4006-abdc-d3170f0ad629",
   "metadata": {},
   "outputs": [],
   "source": [
    "def sigmoid(x, m, b):\n",
    "     y = m*x + b\n",
    "     return y"
   ]
  },
  {
   "cell_type": "code",
   "execution_count": 817,
   "id": "63b3e28f-1444-4052-b3dd-335dd746b7f3",
   "metadata": {},
   "outputs": [
    {
     "name": "stdout",
     "output_type": "stream",
     "text": [
      " m = 0.687970, b = 7.615539\n"
     ]
    }
   ],
   "source": [
    "popt, pcov = curve_fit(sigmoid, x, t)\n",
    "#the final parameters\n",
    "print(\" m = %f, b = %f\" % (popt[0], popt[1]))"
   ]
  },
  {
   "cell_type": "code",
   "execution_count": 821,
   "id": "bf559a83-c17d-442f-8d8c-69389d2402ba",
   "metadata": {},
   "outputs": [
    {
     "data": {
      "image/png": "[encoded data removed]",
      "text/plain": [
       "<Figure size 640x480 with 1 Axes>"
      ]
     },
     "metadata": {},
     "output_type": "display_data"
    }
   ],
   "source": [
    "X = np.linspace(0, max(X), 100)\n",
    "y = sigmoid(X, *popt)\n",
    "plt.scatter(x, t,c='b',marker='x', label='data')\n",
    "plt.plot(X,y, c='r',label=\"$Y$ = {}$X$ + {}\".format(round(popt[0],2), round(popt[1],2)))\n",
    "plt.legend(loc='best')\n",
    "plt.ylabel('Y')\n",
    "plt.xlabel('X')\n",
    "plt.show()"
   ]
  },
  {
   "cell_type": "markdown",
   "id": "547c70a1-8178-4acf-8c28-cd7bbf401ff8",
   "metadata": {},
   "source": [
    "----------------"
   ]
  },
  {
   "cell_type": "markdown",
   "id": "92b4a023-dd24-44e0-b7b0-3eb49b85f4cc",
   "metadata": {},
   "source": [
    "\n",
    "<div dir=\"auto\" >\n",
    "\n",
    "<p style='text-align: right;'>\n",
    "به سوالات زیر پاسخ دهید:\n",
    "<p style='text-align: right;'>\n",
    "A. برای تقسیم‌بندی داده به داده‌های train و test با نسبت دلخواه از چه ابزاری استفاده می‌کنید؟ (تابع آماده را نام ببرید یا پروسه‌ای که خودتان پیاده می‌کنید را توضیح دهید.)\n",
    "<p style='text-align: right;'>\n",
    "B. برای استاندارد کردن داده به ترتیبی که تمام feature‌ها دارای توزیع نرمال با میانگین 0 و انحراف معیار 1 باشند از چه ابزاری استفاده می‌کنید؟\n",
    "<p style='text-align: right;'>\n",
    "C. اگر داده‌ای که قصد ساختن مدل یادگیری ماشین روی آن را دارید دارای ستون‌هایی باشد که مقادیر از جنس عدد نباشند (مثلا str)، این ستون‌ها را چگونه به مقادیر عددی تبدیل می‌کنید؟\n",
    "<p style='text-align: right;'>\n",
    "D. مهم‌ترین تفاوت یادگیری نظارت شده و بدون ناظر چیست؟ برای هر کدام دو الگوریتم را نام ببرید.\n",
    "<p style='text-align: right;'>\n",
    "E. معیارهای accuracy و roc_auc برای طبقه‌بندی را توضیح دهید.\n",
    "<p style='text-align: right;'>\n",
    "F. معیارهای R2 score و root mean squared error را برای رگرسیون توضیح دهید. \n",
    "</p>\n",
    "</div>\n"
   ]
  },
  {
   "cell_type": "markdown",
   "id": "5083835d-b284-4676-9270-37227050f782",
   "metadata": {},
   "source": [
    "# A:"
   ]
  },
  {
   "cell_type": "markdown",
   "id": "12fd2e96-4d9d-4ff8-b6cd-ee2d72ed45b1",
   "metadata": {},
   "source": [
    "```\n",
    "from sklearn.model_selection import train_test_split\n",
    "X_train, X_test, y_train, y_test = train_test_split(x, t, test_size=0.2, random_state=4)\n",
    "```"
   ]
  },
  {
   "cell_type": "markdown",
   "id": "f95e0d77-d1f7-48ea-a103-01639547cdc6",
   "metadata": {},
   "source": [
    "# B:"
   ]
  },
  {
   "cell_type": "markdown",
   "id": "256bc21b-46ee-4575-bb9f-abb0faeb7167",
   "metadata": {},
   "source": [
    "```\n",
    "from sklearn.preprocessing import StandardScaler\n",
    "scaler = StandardScaler()\n",
    "X_scaled = scaler.fit_transform(df)\n",
    "```"
   ]
  },
  {
   "cell_type": "markdown",
   "id": "25de7466-f1ec-42cc-ae74-a11fe4e3ddd0",
   "metadata": {},
   "source": [
    "# C:"
   ]
  },
  {
   "cell_type": "markdown",
   "id": "024116c5-d12a-4518-9c4a-609d491523e5",
   "metadata": {},
   "source": [
    "```\n",
    "#method 1\n",
    "from sklearn.preprocessing import LabelEncoder\n",
    "le = LabelEncoder()\n",
    "df['col_num'] = le.fit_transform(df['col_str'])\n",
    "\n",
    "#method 2\n",
    "df['col_name'] = df['col_name'].map({'Male':0, 'Female':1})\n",
    "```"
   ]
  },
  {
   "cell_type": "markdown",
   "id": "6f8c0385-4e3f-4791-8ae0-adde4bc4b36d",
   "metadata": {},
   "source": [
    "# D:"
   ]
  },
  {
   "cell_type": "markdown",
   "id": "16a5423f-4396-40ef-a5e2-17b754ce3683",
   "metadata": {},
   "source": [
    "Supervised Learning:\n",
    "- Linear Regression\n",
    "- Decision Tree\n",
    "- Random Forest Classifier\n",
    "\n",
    "Unsupervised Learning:\n",
    "- K-Means Clustering\n",
    "- Principal Component Analysis (PCA)"
   ]
  },
  {
   "cell_type": "markdown",
   "id": "d36a7259-2870-49d5-9ba9-60255745f422",
   "metadata": {},
   "source": [
    "# E:"
   ]
  },
  {
   "cell_type": "markdown",
   "id": "9a1be08b-b03a-47d5-92a7-2014b7a162f5",
   "metadata": {},
   "source": [
    "```sklearn.metrics.accuracy_score(y_true, y_pred, *, normalize=True, sample_weight=None)```\n",
    "\n",
    "Accuracy classification score.\n",
    "In multilabel classification, this function computes subset accuracy: \n",
    "the set of labels predicted for a sample must exactly match the corresponding set of labels in y_true.\n",
    "\n",
    "```sklearn.metrics.roc_auc_score(y_true, y_score, *, average='macro', sample_weight=None, max_fpr=None, multi_class='raise', labels=None)```\n",
    "\n",
    "Compute Area Under the Receiver Operating Characteristic Curve (ROC AUC) from prediction scores."
   ]
  },
  {
   "cell_type": "markdown",
   "id": "ead9f4ee-6df1-40f7-9776-31674cbda420",
   "metadata": {},
   "source": [
    "# F:"
   ]
  },
  {
   "cell_type": "markdown",
   "id": "55658e78-468b-4a70-becd-0000582dc677",
   "metadata": {},
   "source": [
    "## $R^2 = 1−\\frac{\\sum\\limits_{i}^n[y_{i} - \\hat{y_i}]^2}{\\sum\\limits_{i}^n[y_{i} - \\bar{y}]^2}$\n",
    "```sklearn.metrics.r2_score(y_true, y_pred, *, sample_weight=None, multioutput='uniform_average', force_finite=True)```\n",
    "\n",
    "Best possible score is 1.0 and it can be negative (because the model can be arbitrarily worse). In the general case when the true y is non-constant, a constant model that always predicts the average y disregarding the input features would get a $(R^2)$ score of 0.0."
   ]
  },
  {
   "cell_type": "markdown",
   "id": "f5c5132d-15d7-4a33-91a1-133a50b1ca5e",
   "metadata": {},
   "source": [
    "## $RMSE = \\sqrt{\\frac{1}{n}\\sum\\limits_{i}^n[y_{i} - \\hat{y_i}]^2}$\n",
    "```sklearn.metrics.root_mean_squared_error(y_true, y_pred, *, sample_weight=None, multioutput='uniform_average')```\n",
    "\n",
    "returns a non-negative floating point value (the best value is 0.0), or an array of floating point values, one for each individual target."
   ]
  }
 ],
 "metadata": {
  "kernelspec": {
   "display_name": "Python [conda env:base] *",
   "language": "python",
   "name": "conda-base-py"
  },
  "language_info": {
   "codemirror_mode": {
    "name": "ipython",
    "version": 3
   },
   "file_extension": ".py",
   "mimetype": "text/x-python",
   "name": "python",
   "nbconvert_exporter": "python",
   "pygments_lexer": "ipython3",
   "version": "3.12.3"
  }
 },
 "nbformat": 4,
 "nbformat_minor": 5
}
